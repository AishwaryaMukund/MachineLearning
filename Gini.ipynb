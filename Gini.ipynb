{
 "cells": [
  {
   "cell_type": "code",
   "execution_count": 7,
   "metadata": {},
   "outputs": [],
   "source": [
    "#from _future_import division, print_function, unicode_literals\n",
    "import math"
   ]
  },
  {
   "cell_type": "code",
   "execution_count": 8,
   "metadata": {},
   "outputs": [
    {
     "name": "stdout",
     "output_type": "stream",
     "text": [
      "56000\n"
     ]
    }
   ],
   "source": [
    "l = [5554, 6296, 5590, 5707, 5496,5027, 5469, 5817, 5434, 5610]\n",
    "print(sum(l))"
   ]
  },
  {
   "cell_type": "code",
   "execution_count": null,
   "metadata": {
    "collapsed": true
   },
   "outputs": [],
   "source": []
  },
  {
   "cell_type": "code",
   "execution_count": null,
   "metadata": {
    "collapsed": true
   },
   "outputs": [],
   "source": [
    "Gini"
   ]
  },
  {
   "cell_type": "code",
   "execution_count": 9,
   "metadata": {
    "scrolled": true
   },
   "outputs": [
    {
     "name": "stdout",
     "output_type": "stream",
     "text": [
      "0.8997037206632652\n"
     ]
    }
   ],
   "source": [
    "f1 = [f/sum(l) for f in l]\n",
    "Gini = sum([f*(1-f) for f in f1])\n",
    "print(Gini)"
   ]
  },
  {
   "cell_type": "markdown",
   "metadata": {},
   "source": [
    "Entropy"
   ]
  },
  {
   "cell_type": "code",
   "execution_count": 10,
   "metadata": {},
   "outputs": [
    {
     "name": "stdout",
     "output_type": "stream",
     "text": [
      "3.3198076417940654\n"
     ]
    }
   ],
   "source": [
    "f2 = [f/sum(l) for f in l]\n",
    "ent = sum([-1*f*math.log(f,2) for f in f2])\n",
    "print(ent)"
   ]
  },
  {
   "cell_type": "markdown",
   "metadata": {},
   "source": [
    "Information Gain"
   ]
  },
  {
   "cell_type": "code",
   "execution_count": 25,
   "metadata": {},
   "outputs": [
    {
     "name": "stdout",
     "output_type": "stream",
     "text": [
      "36127\n",
      "0.8804541791208823\n"
     ]
    }
   ],
   "source": [
    "Left = [5013, 541, 4435, 1153, 5006, 2965, 4393, 5342, 2795, 4484]\n",
    "print(sum(Left))\n",
    "Fi = [f/sum(Left) for f in Left]\n",
    "LeftGini = sum([f*(1-f) for f in Fi])\n",
    "print(LeftGini)"
   ]
  },
  {
   "cell_type": "code",
   "execution_count": 29,
   "metadata": {},
   "outputs": [
    {
     "name": "stdout",
     "output_type": "stream",
     "text": [
      "19783\n",
      "0.49434281485011566\n"
     ]
    }
   ],
   "source": [
    "Right = [451, 5755, 1155, 4554, 490, 2062, 1076, 475, 2639, 1126]\n",
    "print(sum(Right))\n",
    "Fi = [f/sum(Left) for f in Right]\n",
    "RightGini = sum([f*(1-f) for f in Fi])\n",
    "print(RightGini)\n"
   ]
  },
  {
   "cell_type": "code",
   "execution_count": 30,
   "metadata": {},
   "outputs": [
    {
     "name": "stdout",
     "output_type": "stream",
     "text": [
      "0.7426384292014276\n",
      "Information Gain=  0.13781574991945467\n",
      "0.8804541791208823\n"
     ]
    }
   ],
   "source": [
    "SplitGini = LeftGini*(sum(Left)/sum(l))+RightGini*(sum(Right)/sum(l))\n",
    "print(SplitGini)\n",
    "print(\"Information Gain= \", Gini - SplitGini)\n",
    "print(Gini)"
   ]
  }
 ],
 "metadata": {
  "kernelspec": {
   "display_name": "Python 3",
   "language": "python",
   "name": "python3"
  },
  "language_info": {
   "codemirror_mode": {
    "name": "ipython",
    "version": 3
   },
   "file_extension": ".py",
   "mimetype": "text/x-python",
   "name": "python",
   "nbconvert_exporter": "python",
   "pygments_lexer": "ipython3",
   "version": "3.6.3"
  }
 },
 "nbformat": 4,
 "nbformat_minor": 2
}
